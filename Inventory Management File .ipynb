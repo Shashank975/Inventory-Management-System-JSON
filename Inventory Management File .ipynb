{
 "cells": [
  {
   "cell_type": "code",
   "execution_count": 31,
   "id": "db2bd2d1",
   "metadata": {},
   "outputs": [
    {
     "name": "stdout",
     "output_type": "stream",
     "text": [
      "1001 : BlueStar | 10 | 98\n",
      "1002 : BarOne | 15 | 100\n",
      "1003 : Chocalate Cake | 100 | 20\n",
      "1004 : Blurberry Cake | 200 | 20\n",
      "---------------Details---------------------------------\n",
      "Enter the Name              :ghfhds\n",
      "Enter the Email             :fjhgfds\n",
      "Enter the Phone Number      :487589437\n",
      "Enter your Location         :gfhsg\n",
      "Enter the Product ID        :1001\n",
      "Enter the Product Quantity  :99\n",
      "-----!!!Product is not avaliable right now!!!------\n",
      "---------------------------------------------\n",
      "We're only having 98 Quantity.\n",
      "---------------------------------------------\n",
      "Thanks for visiting!\n"
     ]
    }
   ],
   "source": [
    "#Import json and time\n",
    "import json\n",
    "import time\n",
    "sale=''\n",
    "\n",
    "# Importing Inventory data from Record.json file\n",
    "fd=open('records.json','r')\n",
    "js=fd.read()\n",
    "fd.close()\n",
    "\n",
    "# Converting String data to Dictionary\n",
    "records=json.loads(js)\n",
    "\n",
    "# Displaying Menu\n",
    "for key in records.keys():\n",
    "        print(key,\":\",records[key][\"NAME\"],\"|\",records[key][\"Price\"],\"|\",records[key][\"Quantity\"])\n",
    " \n",
    " # Taking Inputs from the user about their details and purchase\n",
    "\n",
    "print(\"---------------Details---------------------------------\")        \n",
    "ui_name=input   (\"Enter the Name              :\")\n",
    "ui_mail=input   (\"Enter the Email             :\")\n",
    "ui_ph=input    (\"Enter the Phone Number      :\")\n",
    "ui_loc=input   (\"Enter your Location         :\")\n",
    "ui_pr=str(input(\"Enter the Product ID        :\"))\n",
    "ui_qn=int(input(\"Enter the Product Quantity  :\"))\n",
    "    \n",
    "# If we're less quantity then the user wants\n",
    "if (int(ui_qn))>=int(records[ui_pr][\"Quantity\"]):\n",
    "    \n",
    "    print(\"-----!!!Product is not avaliable right now!!!------\")\n",
    "    print(\"---------------------------------------------\")\n",
    "    print(\"We're only having \" + str(records[ui_pr]['Quantity']) + \" Quantity.\")\n",
    "    print(\"---------------------------------------------\")\n",
    "    print(\"Thanks for visiting!\")\n",
    "    \n",
    "    \n",
    "# If we're having equal or more quantity then the user wants\n",
    "       \n",
    "else:\n",
    "        print(\"----------------BILL--------------------------\\n\")\n",
    "        print(\"Name of your Product     :\",records[ui_pr][\"NAME\"])\n",
    "        print(\"Quantity of your Product :\",records[ui_pr][\"Price\"],\"Rs\")\n",
    "        print(\"Price of your Product    :\",ui_qn)\n",
    "        print(\"--------------Total------------------\")\n",
    "\n",
    "        print(\"Your Total               :\",int(records[ui_pr][\"Price\"])*(ui_qn),\"Rs\")\n",
    "        print(\"-------------------------------------------------\\n\")\n",
    " # Updating Inventory in Dictionary\n",
    "        \n",
    "        records[ui_pr][\"Quantity\"] = str(int(records[ui_pr][\"Quantity\"]) - ui_qn)\n",
    "        \n",
    "        print(\"Thanks for visiting!\")\n",
    "        print(\"--------------------------------------------------\")\n",
    " # Generating CSV Transection Detail       \n",
    "        sale = \"A\"+\",\"+ ui_name + \",\" + ui_mail + \",\" + ui_ph + \",\" + ui_loc + \",\"+ str(ui_pr)+\",\" + str(records[ui_pr][\"NAME\"]) + \",\" + str(records[ui_pr][\"Price\"]) + \",\" + str(ui_qn) + \",\" + str(int(records[ui_pr][\"Price\"]) * int(ui_qn))+\",\"+time.ctime()+ \"\\n\"\n",
    "        \n",
    "    \n",
    "\n",
    "# Updating Inventory and Saving in to my Records.json\n",
    "\n",
    "js=json.dumps(records)\n",
    "fd=open('records.json','w')\n",
    "fd.write(js)\n",
    "fd.close()\n",
    "\n",
    "# Adding Transection on Sales File\n",
    "\n",
    "fd=open(\"sale.txt\",\"a\")\n",
    "fd.write(sale)\n",
    "fd.close()\n"
   ]
  },
  {
   "cell_type": "markdown",
   "id": "6c691163",
   "metadata": {},
   "source": [
    "## "
   ]
  },
  {
   "cell_type": "code",
   "execution_count": null,
   "id": "630d0d8d",
   "metadata": {},
   "outputs": [],
   "source": []
  }
 ],
 "metadata": {
  "kernelspec": {
   "display_name": "Python 3 (ipykernel)",
   "language": "python",
   "name": "python3"
  },
  "language_info": {
   "codemirror_mode": {
    "name": "ipython",
    "version": 3
   },
   "file_extension": ".py",
   "mimetype": "text/x-python",
   "name": "python",
   "nbconvert_exporter": "python",
   "pygments_lexer": "ipython3",
   "version": "3.11.1"
  }
 },
 "nbformat": 4,
 "nbformat_minor": 5
}
